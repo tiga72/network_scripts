{
 "cells": [
  {
   "cell_type": "markdown",
   "metadata": {},
   "source": [
    "#### SEQUENCE ####\n",
    "\n",
    "1. Generate a key and save it locally (Only done once)\n",
    "2. Encrypted password and stored it a file locally\n",
    "3. Delete clear text password in script\n",
    "4. Decode encrypted password(locally stored) with fernet object\n",
    "\n",
    "Steps 1 to 3 is done once.\n",
    "\n",
    "Step 4 is run whenever we need to run script"
   ]
  },
  {
   "cell_type": "code",
   "execution_count": null,
   "metadata": {},
   "outputs": [],
   "source": [
    "from cryptography.fernet import Fernet"
   ]
  },
  {
   "cell_type": "code",
   "execution_count": null,
   "metadata": {},
   "outputs": [],
   "source": [
    "# RUN THIS PART ONLY ONCE !!!\n",
    "\n",
    "# Use this part of script to generate a fernet key\n",
    "# fernet key(instance) is used to encrypt and decrypt string\n",
    "# key was generated and save to local disk\n",
    "# Note: The fernet generate method will produce a different key every time it is run\n",
    "\n",
    "key = Fernet.generate_key()\n",
    "\n",
    "with open('C:\\\\Users\\\\user1\\\\scripts\\\\rw\\\\key.key', 'wb') as file_object:  \n",
    "    file_object.write(key)"
   ]
  },
  {
   "cell_type": "code",
   "execution_count": null,
   "metadata": {},
   "outputs": [],
   "source": [
    "# RUN THIS PART ONLY ONCE FOR EVERY/EACH PASSWORD!!!\n",
    "# RUN THIS WHEN PASSWORD CHANGES\n",
    "# Instantiates a Fernet object(cipher) using previoulsy generated key(stored locally)\n",
    "# encPwd is the encrypted password using the key.key\n",
    "\n",
    "with open('C:\\\\Users\\\\user1\\\\scripts\\\\rw\\\\key.key', 'rb') as key_object:\n",
    "    key_read = key_object.read()\n",
    "\n",
    "pwd = \"user1password\"\n",
    "cipher = Fernet(key_read) \n",
    "encPwd = cipher.encrypt(pwd.encode())\n",
    "\n",
    "with open('C:\\\\Users\\\\user1\\\\scripts\\\\rw\\\\encPwd.key', 'wb') as file_object:  \n",
    "    file_object.write(encPwd)  \n",
    "\n",
    "# Delete line of code that shows password string after this part"
   ]
  },
  {
   "cell_type": "code",
   "execution_count": null,
   "metadata": {},
   "outputs": [],
   "source": [
    "# USE THIS IN SCRIPT !!\n",
    "# Use fernet object(Instantiated with key) to decode the stored encrypted password\n",
    "# Using key.key to decode the encPwd.key\n",
    "# Since both key.key and encPwd.key is local to your computer\n",
    "# Others cannot decrypt your password unless they have access to key.key and encPwd.key\n",
    "\n",
    "def get_key():\n",
    "    \"\"\"Reads fernet key that is stored locally\"\"\"\n",
    "    with open('C:\\\\Users\\\\user1\\\\scripts\\\\rw\\\\key.key', 'rb') as key_object:  \n",
    "        return key_object.read()\n",
    "\n",
    "def get_encPwd():\n",
    "    \"\"\"Reads encrypted password that is stored locally\"\"\"\n",
    "    with open('C:\\\\Users\\\\user1\\\\scripts\\\\rw\\\\encPwd.key', 'rb') as encPwd_object:  \n",
    "        return encPwd_object.read()\n",
    "\n",
    "# Calls the 2 function to get/read i)fernet_key and ii)encrypted password\n",
    "    \n",
    "key_read = get_key()\n",
    "encPwd_read = get_encPwd()\n",
    "\n",
    "cipher = Fernet(key_read)\n",
    "\n",
    "# use cipher and encrypted password to decrypt the password \n",
    "decPwd = cipher.decrypt(encPwd_read).decode()\n",
    "\n",
    "print(decPwd)"
   ]
  }
 ],
 "metadata": {
  "kernelspec": {
   "display_name": "Python 3 (ipykernel)",
   "language": "python",
   "name": "python3"
  },
  "language_info": {
   "codemirror_mode": {
    "name": "ipython",
    "version": 3
   },
   "file_extension": ".py",
   "mimetype": "text/x-python",
   "name": "python",
   "nbconvert_exporter": "python",
   "pygments_lexer": "ipython3",
   "version": "3.9.7"
  }
 },
 "nbformat": 4,
 "nbformat_minor": 4
}
