{
 "cells": [
  {
   "cell_type": "raw",
   "metadata": {},
   "source": [
    "<<textfsm templates>>\n",
    "\n",
    "[show commands]      [IOS_tested]     [Nexus_tested]               \n",
    "> sh inventory        OK              OK\n",
    "> sh cdp nei detail   OK              OK\n",
    "> sh ip int brief     OK              Not_compatible\n",
    "> sh ip bgp summary   OK              OK\n",
    "> sh version          OK              Not_compatible\n",
    "\n",
    "** Nexus \"sh ip int brief\" and \"sh version\" cannot be parsed as the output\n",
    "format differs from Cisco IOS. Need to write a separate fsm template file\n",
    "to carter for these 2."
   ]
  },
  {
   "cell_type": "code",
   "execution_count": 1,
   "metadata": {},
   "outputs": [
    {
     "name": "stdout",
     "output_type": "stream",
     "text": [
      "Enter input filename :input_inventory\n",
      "Output file is result.csv\n"
     ]
    }
   ],
   "source": [
    "# Take unstructured data(cli output) and convert it to structured data(ie csv)\n",
    "# Script autmotically selects the template to use based on the keywords found inside the input file\n",
    "# Result is output into a csv file\n",
    "\n",
    "import textfsm\n",
    "import pandas as pd\n",
    "\n",
    "ask_for_filename = input (\"Enter input filename :\")\n",
    "file_path = \"C:\\\\Users\\\\limengse\\\\scripts\\\\Jupyter\\\\textfsm\\\\\" + ask_for_filename\n",
    "input_file = open(file_path)\n",
    "\n",
    "raw_text_data = input_file.read()\n",
    "\n",
    "# List of keywords to be matched(ALL) to correctly identify the input file \n",
    "# \"eason\": To match Reason and reason\n",
    "match_cdp = [\"Device ID\",\"Platform\",\"Holdtime\"]\n",
    "match_version = [\"Copyright\", \"eason\",\"uptime\"]\n",
    "match_ip_int = [\"IP-Address\", \"OK?\", \"Method\", \"Status\"]\n",
    "match_bgp_sum = [\"Neighbor\", \"AS\", \"MsgRcvd\", \"MsgSent\"]\n",
    "match_inventory = [\"DESCR:\", \"PID:\", \"VID:\", \"SN:\"]\n",
    "\n",
    "# Checks input file to determine which textfsm template to use\n",
    "# All keywords in list MUST match for condition to be true\n",
    "if all(x in raw_text_data for x in match_cdp):\n",
    "    template_type = \"cisco_cdp_nei_detail.template\"\n",
    "\n",
    "elif all(x in raw_text_data for x in match_version):\n",
    "    template_type = \"cisco_version.template\"\n",
    "\n",
    "elif all(x in raw_text_data for x in match_ip_int):\n",
    "    template_type = \"cisco_ip_int_brief.template\"\n",
    "\n",
    "elif all(x in raw_text_data for x in match_bgp_sum):\n",
    "    template_type = \"cisco_bgp_summary.template\"\n",
    "\n",
    "elif all(x in raw_text_data for x in match_inventory):\n",
    "    template_type = \"cisco_inventory.template\"\n",
    "\n",
    "else:\n",
    "    print(\"invalid input file\")\n",
    "\n",
    "# re_table = A textfsm object is created by feeding it with a template_file\n",
    "# Becomes a parser object  for a certain cli output(based on the input template file)\n",
    "# This parser object then takes the input(raw_text_data) and process it to get result\n",
    "# ParseText result is convert into a df, then into a csv\n",
    "# df count index tells you how many rows there are in df but it starts from 0(default). \n",
    "# Use df.index += 1 to make it start from 1. So you get a tally count of the result\n",
    "\n",
    "with open(template_type) as f:\n",
    "    re_table = textfsm.TextFSM(f)\n",
    "    header = re_table.header\n",
    "    result = re_table.ParseText(raw_text_data)\n",
    "    df = pd.DataFrame(result, columns = header)\n",
    "    df.index += 1\n",
    "    df.to_csv(\"result.csv\", sep=\",\")\n",
    "print(\"Output file is result.csv\")"
   ]
  }
 ],
 "metadata": {
  "kernelspec": {
   "display_name": "Python 3 (ipykernel)",
   "language": "python",
   "name": "python3"
  },
  "language_info": {
   "codemirror_mode": {
    "name": "ipython",
    "version": 3
   },
   "file_extension": ".py",
   "mimetype": "text/x-python",
   "name": "python",
   "nbconvert_exporter": "python",
   "pygments_lexer": "ipython3",
   "version": "3.9.7"
  }
 },
 "nbformat": 4,
 "nbformat_minor": 4
}
