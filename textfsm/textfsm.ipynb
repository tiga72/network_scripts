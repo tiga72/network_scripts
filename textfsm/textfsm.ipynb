{
 "cells": [
  {
   "cell_type": "code",
   "execution_count": 2,
   "metadata": {},
   "outputs": [],
   "source": [
    "# Single template file\n",
    "\n",
    "import textfsm\n",
    "import pandas as pd\n",
    "\n",
    "input_file = open(\"input_sh_ver\", encoding='utf-8')\n",
    "raw_text_data = input_file.read()\n",
    "\n",
    "with open(\"cisco_version.template\") as f:\n",
    "    re_table = textfsm.TextFSM(f)\n",
    "    header = re_table.header\n",
    "    result = re_table.ParseText(raw_text_data)\n",
    "    df = pd.DataFrame(result, columns = header)\n",
    "    df.index += 1\n",
    "    df.to_csv(\"result.csv\", sep=\",\")"
   ]
  },
  {
   "cell_type": "raw",
   "metadata": {},
   "source": [
    "<<textfsm templates>>\n",
    "\n",
    "[show commands]      [IOS_tested]     [Nexus_tested]               \n",
    "> sh inventory        OK              OK\n",
    "> sh cdp nei detail   OK              OK\n",
    "> sh ip int brief     OK              Not_compatible\n",
    "> sh ip bgp summary   OK              OK\n",
    "> sh version          OK              Not_compatible\n",
    "\n",
    "** Nexus \"sh ip int brief\" and \"sh version\" cannot be parsed as the output\n",
    "format differs from Cisco IOS. Need to write a separate fsm template file\n",
    "to carter for these 2."
   ]
  },
  {
   "cell_type": "code",
   "execution_count": 1,
   "metadata": {},
   "outputs": [
    {
     "name": "stdout",
     "output_type": "stream",
     "text": [
      "Enter input filename :input_inventory\n",
      "Output file is result.csv\n"
     ]
    }
   ],
   "source": [
    "# Take unstructured data(cli output) and convert it to structured data(ie csv)\n",
    "# Script autmotically selects the template to use based on the keywords found inside the input file\n",
    "# Result is output into a csv file\n",
    "\n",
    "import textfsm\n",
    "import pandas as pd\n",
    "\n",
    "ask_for_filename = input (\"Enter input filename :\")\n",
    "file_path = \"C:\\\\Users\\\\limengse\\\\scripts\\\\Jupyter\\\\textfsm\\\\\" + ask_for_filename\n",
    "input_file = open(file_path)\n",
    "\n",
    "raw_text_data = input_file.read()\n",
    "\n",
    "# List of keywords to be matched(ALL) to correctly identify the input file \n",
    "# \"eason\": To match Reason and reason\n",
    "match_cdp = [\"Device ID\",\"Platform\",\"Holdtime\"]\n",
    "match_version = [\"Copyright\", \"eason\",\"uptime\"]\n",
    "match_ip_int = [\"IP-Address\", \"OK?\", \"Method\", \"Status\"]\n",
    "match_bgp_sum = [\"Neighbor\", \"AS\", \"MsgRcvd\", \"MsgSent\"]\n",
    "match_inventory = [\"DESCR:\", \"PID:\", \"VID:\", \"SN:\"]\n",
    "\n",
    "# Checks input file to determine which textfsm template to use\n",
    "# All keywords in list MUST match for condition to be true\n",
    "if all(x in raw_text_data for x in match_cdp):\n",
    "    template_type = \"cisco_cdp_nei_detail.template\"\n",
    "\n",
    "elif all(x in raw_text_data for x in match_version):\n",
    "    template_type = \"cisco_version.template\"\n",
    "\n",
    "elif all(x in raw_text_data for x in match_ip_int):\n",
    "    template_type = \"cisco_ip_int_brief.template\"\n",
    "\n",
    "elif all(x in raw_text_data for x in match_bgp_sum):\n",
    "    template_type = \"cisco_bgp_summary.template\"\n",
    "\n",
    "elif all(x in raw_text_data for x in match_inventory):\n",
    "    template_type = \"cisco_inventory.template\"\n",
    "\n",
    "else:\n",
    "    print(\"invalid input file\")\n",
    "\n",
    "# re_table = A textfsm object is created by feeding it with a template_file\n",
    "# Becomes a parser object  for a certain cli output(based on the input template file)\n",
    "# This parser object then takes the input(raw_text_data) and process it to get result\n",
    "# ParseText result is convert into a df, then into a csv\n",
    "# df count index tells you how many rows there are in df but it starts from 0(default). \n",
    "# Use df.index += 1 to make it start from 1. So you get a tally count of the result\n",
    "\n",
    "with open(template_type) as f:\n",
    "    re_table = textfsm.TextFSM(f)\n",
    "    header = re_table.header\n",
    "    result = re_table.ParseText(raw_text_data)\n",
    "    df = pd.DataFrame(result, columns = header)\n",
    "    df.index += 1\n",
    "    df.to_csv(\"result.csv\", sep=\",\")\n",
    "print(\"Output file is result.csv\")"
   ]
  },
  {
   "cell_type": "code",
   "execution_count": 3,
   "metadata": {},
   "outputs": [
    {
     "name": "stdout",
     "output_type": "stream",
     "text": [
      "Collecting ncclient\n",
      "  Downloading ncclient-0.6.13.tar.gz (105 kB)\n",
      "Requirement already satisfied: setuptools>0.6 in c:\\programdata\\anaconda3\\lib\\site-packages (from ncclient) (50.3.1.post20201107)\n",
      "Requirement already satisfied: paramiko>=1.15.0 in c:\\programdata\\anaconda3\\lib\\site-packages (from ncclient) (2.7.2)\n",
      "Requirement already satisfied: lxml>=3.3.0 in c:\\programdata\\anaconda3\\lib\\site-packages (from ncclient) (4.6.1)\n",
      "Requirement already satisfied: six in c:\\programdata\\anaconda3\\lib\\site-packages (from ncclient) (1.15.0)\n",
      "Requirement already satisfied: bcrypt>=3.1.3 in c:\\programdata\\anaconda3\\lib\\site-packages (from paramiko>=1.15.0->ncclient) (3.2.0)\n",
      "Requirement already satisfied: cryptography>=2.5 in c:\\programdata\\anaconda3\\lib\\site-packages (from paramiko>=1.15.0->ncclient) (3.1.1)\n",
      "Requirement already satisfied: pynacl>=1.0.1 in c:\\programdata\\anaconda3\\lib\\site-packages (from paramiko>=1.15.0->ncclient) (1.4.0)\n",
      "Requirement already satisfied: cffi>=1.1 in c:\\programdata\\anaconda3\\lib\\site-packages (from bcrypt>=3.1.3->paramiko>=1.15.0->ncclient) (1.14.3)\n",
      "Requirement already satisfied: pycparser in c:\\programdata\\anaconda3\\lib\\site-packages (from cffi>=1.1->bcrypt>=3.1.3->paramiko>=1.15.0->ncclient) (2.20)\n",
      "Building wheels for collected packages: ncclient\n",
      "  Building wheel for ncclient (setup.py): started\n",
      "  Building wheel for ncclient (setup.py): finished with status 'done'\n",
      "  Created wheel for ncclient: filename=ncclient-0.6.13-py2.py3-none-any.whl size=84632 sha256=8fbb79fb89a922dc45644b8a32b51e78f83e78b0df62687f98cd5fd645412309\n",
      "  Stored in directory: c:\\users\\limengse\\appdata\\local\\pip\\cache\\wheels\\67\\11\\3c\\a37e8444e37c5ba652e424bbcee2350b982497dd9bfc55f175\n",
      "Successfully built ncclient\n",
      "Installing collected packages: ncclient\n",
      "Successfully installed ncclient-0.6.13\n",
      "Note: you may need to restart the kernel to use updated packages.\n"
     ]
    }
   ],
   "source": [
    "pip install ncclient"
   ]
  },
  {
   "cell_type": "code",
   "execution_count": 4,
   "metadata": {},
   "outputs": [
    {
     "name": "stdout",
     "output_type": "stream",
     "text": [
      "Name: ncclient\n",
      "Version: 0.6.13\n",
      "Summary: Python library for NETCONF clients\n",
      "Home-page: https://github.com/ncclient/ncclient\n",
      "Author: Shikhar Bhushan, Leonidas Poulopoulos, Ebben Aries, Einar Nilsen-Nygaard\n",
      "Author-email: shikhar@schmizz.net, lpoulopoulos@verisign.com, exa@dscp.org, einarnn@gmail.com\n",
      "License: Apache 2.0\n",
      "Location: c:\\programdata\\anaconda3\\lib\\site-packages\n",
      "Requires: lxml, six, paramiko, setuptools\n",
      "Required-by: \n",
      "Note: you may need to restart the kernel to use updated packages.\n"
     ]
    }
   ],
   "source": [
    "pip show ncclient"
   ]
  },
  {
   "cell_type": "code",
   "execution_count": null,
   "metadata": {},
   "outputs": [],
   "source": []
  }
 ],
 "metadata": {
  "kernelspec": {
   "display_name": "Python 3 (ipykernel)",
   "language": "python",
   "name": "python3"
  },
  "language_info": {
   "codemirror_mode": {
    "name": "ipython",
    "version": 3
   },
   "file_extension": ".py",
   "mimetype": "text/x-python",
   "name": "python",
   "nbconvert_exporter": "python",
   "pygments_lexer": "ipython3",
   "version": "3.9.7"
  }
 },
 "nbformat": 4,
 "nbformat_minor": 4
}
