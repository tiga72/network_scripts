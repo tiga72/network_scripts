{
 "cells": [
  {
   "cell_type": "markdown",
   "metadata": {},
   "source": [
    "### Perform sh cmds on multiple devices using netmiko"
   ]
  },
  {
   "cell_type": "code",
   "execution_count": 6,
   "metadata": {},
   "outputs": [
    {
     "name": "stdout",
     "output_type": "stream",
     "text": [
      "Enter filename :test\n",
      "Time took 0.16 minutes\n"
     ]
    }
   ],
   "source": [
    "# --- setup ----\n",
    "# install using \"pip install netmiko\"\n",
    "# Fill in username, password, secret, path for file capture/logging\n",
    "# Run in conda/ or any python IDE\n",
    "# ----------------------\n",
    "# An extension of the multi_dev_shCmds.py. Includes a logging feature\n",
    "# Creates and logs a file (for capturing the outputs from device/devices)\n",
    "# Created file contains one or more devices (depending the no. of specified devices)\n",
    "# Tested success on Nexus7000, ASR1004, C9500, c4500, C9300, c3850\n",
    "# 1st for loop logs into device; 2nd for loop runs the cmd list for the current device\n",
    "# Cmd list do not need to include \"term len 0\" (longer output is parsed automatically by Netmiko)\n",
    "# Create dictionary \"connect_info\" and use as input for method ConnectHandler()\n",
    "# Some cmd list are privilleged, thats why we need to specify secret password and do enable\n",
    "\n",
    "from netmiko import ConnectHandler\n",
    "import time\n",
    "\n",
    "nStartTime = time.time()\n",
    "ask_for_filename = input (\"Enter filename :\")\n",
    "\n",
    "file_path = \"C:\\\\Users\\\\user1\\\\scripts\\\\Jupyter\\\\\" + ask_for_filename\n",
    "log_file = open(file_path, \"w\")\n",
    "\n",
    "dev_list = [\n",
    "\"router1\", \n",
    "]\n",
    "\n",
    "cmd_list = [\n",
    "\"sh clock\",\n",
    "\"sh ver\",\n",
    "]\n",
    " \n",
    "for dev in range(len(dev_list)):\n",
    "    connect_info = {\n",
    "        'device_type': 'cisco_ios',\n",
    "        'ip': dev_list[dev],\n",
    "        'username': 'user1',\n",
    "        'password': 'user1password',\n",
    "        'secret': 'user1password',\n",
    "    }\n",
    "\n",
    "    ssh_session = ConnectHandler(**connect_info)\n",
    "    ssh_session.enable()\n",
    "    log_file.write('Connecting to ' + str(dev_list[dev]) + \"\\n\")\n",
    "    log_file.write('-'*79 + \"\\n\")\n",
    "    for cmd in range(len(cmd_list)):\n",
    "        current_cmd_capture = ssh_session.send_command(cmd_list[cmd])\n",
    "        log_file.write(str(cmd_list[cmd]) + \"\\n\")\n",
    "        log_file.write(current_cmd_capture + \"\\n\")\n",
    "    log_file.write('-'*79 + \"\\n\")\n",
    " \n",
    "# Close session after each call\n",
    "    ssh_session.disconnect()\n",
    "\n",
    "log_file.close()\n",
    "\n",
    "nTimeElapsed = time.time() - nStartTime\n",
    "timeSec = (nTimeElapsed/60)\n",
    "timeTook = (str(timeSec))[:4]\n",
    "print((\"Time took %s minutes\" % timeTook))"
   ]
  },
  {
   "cell_type": "markdown",
   "metadata": {},
   "source": [
    "### Perform sh cmds on multiple devices using netmiko (with password encryption)"
   ]
  },
  {
   "cell_type": "code",
   "execution_count": 3,
   "metadata": {},
   "outputs": [
    {
     "name": "stdout",
     "output_type": "stream",
     "text": [
      "Enter filename :test\n",
      "Time took 0.27 minutes\n"
     ]
    }
   ],
   "source": [
    "# Same functionality but with password encryption using Fernet\n",
    "\n",
    "from cryptography.fernet import Fernet\n",
    "from netmiko import ConnectHandler\n",
    "import time\n",
    "\n",
    "def pwd_decrypt():\n",
    "    with open('C:\\\\Users\\\\user1\\\\scripts\\\\rw\\\\key.key', 'rb') as file_object:  \n",
    "        key_read_decrypt = file_object.read()\n",
    "\n",
    "    cipher = Fernet(key_read_decrypt)\n",
    "    with open('C:\\\\Users\\\\user1\\\\scripts\\\\rw\\\\encPwd.key', 'rb') as file_object:  \n",
    "        encPwd_contents = file_object.read()\n",
    "\n",
    "    decPwd = cipher.decrypt(encPwd_contents).decode()\n",
    "    return decPwd\n",
    "\n",
    "nStartTime = time.time()\n",
    "ask_for_filename = input (\"Enter filename :\")\n",
    "\n",
    "file_path = \"C:\\\\Users\\\\user1\\\\scripts\\\\Jupyter\\\\\" + ask_for_filename\n",
    "log_file = open(file_path, \"w\")\n",
    "\n",
    "dev_list = [\n",
    "\"router1\",\n",
    "\"router2\",\n",
    "]\n",
    "\n",
    "cmd_list = [\n",
    "\"sh cdp nei deta\",\n",
    "]\n",
    "\n",
    "pwd = pwd_decrypt()\n",
    " \n",
    "for dev in range(len(dev_list)):\n",
    "    connect_info = {\n",
    "        'device_type': 'cisco_ios',\n",
    "        'ip': dev_list[dev],\n",
    "        'username': 'user1',\n",
    "        'password': pwd,\n",
    "        'secret': pwd,\n",
    "    }\n",
    "\n",
    "    ssh_session = ConnectHandler(**connect_info)\n",
    "    ssh_session.enable()\n",
    "    log_file.write('Connecting to ' + str(dev_list[dev]) + \"\\n\")\n",
    "    log_file.write('-'*79 + \"\\n\")\n",
    "    for cmd in range(len(cmd_list)):\n",
    "        current_cmd_capture = ssh_session.send_command(cmd_list[cmd])\n",
    "        log_file.write(str(cmd_list[cmd]) + \"\\n\")\n",
    "        log_file.write(current_cmd_capture + \"\\n\")\n",
    "    log_file.write('-'*79 + \"\\n\") \n",
    "    ssh_session.disconnect()\n",
    "log_file.close()\n",
    "\n",
    "nTimeElapsed = time.time() - nStartTime\n",
    "timeSec = (nTimeElapsed/60)\n",
    "timeTook = (str(timeSec))[:4]\n",
    "print((\"Time took %s minutes\" % timeTook))"
   ]
  }
 ],
 "metadata": {
  "kernelspec": {
   "display_name": "Python 3 (ipykernel)",
   "language": "python",
   "name": "python3"
  },
  "language_info": {
   "codemirror_mode": {
    "name": "ipython",
    "version": 3
   },
   "file_extension": ".py",
   "mimetype": "text/x-python",
   "name": "python",
   "nbconvert_exporter": "python",
   "pygments_lexer": "ipython3",
   "version": "3.9.7"
  }
 },
 "nbformat": 4,
 "nbformat_minor": 4
}
